{
 "cells": [
  {
   "cell_type": "markdown",
   "metadata": {},
   "source": [
    "# Erstes einfaches Beispiel einer Datenanalyse zur Veranschaulichung"
   ]
  },
  {
   "cell_type": "markdown",
   "metadata": {},
   "source": [
    "In der ersten Übung würde ich Euch gerne ein Beispiel zeigen, wie eine Datenanalyse entlang der wesentlichen Schritte aussieht. Wichtig ist, dass dies eine starke Vereinfachung ist und kein Anspruch hat alle Aspekte aufzugreifen."
   ]
  },
  {
   "cell_type": "markdown",
   "metadata": {},
   "source": [
    "![purple-divider](https://user-images.githubusercontent.com/7065401/52071927-c1cd7100-2562-11e9-908a-dde91ba14e59.png)"
   ]
  },
  {
   "cell_type": "markdown",
   "metadata": {},
   "source": [
    "![Data-Analysis-Process](https://blogs.sas.com/content/sgf/files/2019/05/AnylticsProcesModal.png)"
   ]
  },
  {
   "cell_type": "markdown",
   "metadata": {},
   "source": [
    "<div>\n",
    "<img src=\"./src/CRISPDM.png\" width=\"700\"/>\n",
    "</div>"
   ]
  },
  {
   "cell_type": "markdown",
   "metadata": {},
   "source": [
    "![purple-divider](https://user-images.githubusercontent.com/7065401/52071927-c1cd7100-2562-11e9-908a-dde91ba14e59.png)"
   ]
  },
  {
   "cell_type": "markdown",
   "metadata": {},
   "source": [
    "Anbei eine Übersicht, der die wesentlichen Schritte des Datenanalyseprozesses noch einmal darlegt. Wichtig ist, dass der Prozess sich immer **leicht unterscheidet** und es nicht **den einen Datenanalyseprozess** gibt. Es sind aber in der ein oder anderen Form immer die gleichen Elemente/Schritte enthalten."
   ]
  },
  {
   "cell_type": "markdown",
   "metadata": {},
   "source": [
    "# General Setup how to structure a Notebook\n",
    "\n",
    "1. Import packages\n",
    "1. Hypothesis \n",
    "    1. Welche Fragen möchte ich beantworten\n",
    "    1. Zielvariablen benennen\n",
    "1. Gathering Data\n",
    "1. Assess Data\n",
    "    1. Results/Findings\n",
    "1. Clean Data\n",
    "    1. First Flaw\n",
    "        1. Define\n",
    "        1. Code\n",
    "        1. Test\n",
    "    1. Second Flaw\n",
    "        1. Define\n",
    "        1. Code\n",
    "        1. Test\n",
    "1. Storing the Data\n",
    "1. Exploratory Data Analysis\n",
    "1. Trainingsset vorbereiten\n",
    "1. Performance Metricen überlegen\n",
    "1. Feature Engineering\n",
    "1. Modelling\n",
    "    1. Model1\n",
    "        1. Model1 definieren\n",
    "        1. Model1 training\n",
    "        1. Model1 Performance Assessment\n",
    "    1. Modelx\n",
    "        1. Modelx definieren\n",
    "        1. Modelx training\n",
    "        1. Modelx Performance Assessment\n",
    "1. Hyperparameter tuning\n",
    "1. Visualizing your Findings\n",
    "1. Interpretation"
   ]
  },
  {
   "cell_type": "markdown",
   "metadata": {},
   "source": [
    "# Datenset und zu lösende Herausforderung"
   ]
  },
  {
   "cell_type": "markdown",
   "metadata": {},
   "source": [
    "Dieser Datensatz stammt ursprünglich vom **National Institute of Diabetes and Digestive and Kidney Diseases**. Das Ziel des Datensatzes ist die diagnostische Vorhersage, ob ein Patient Diabetes hat oder nicht, basierend auf bestimmten diagnostischen Messungen, die im Datensatz enthalten sind."
   ]
  },
  {
   "cell_type": "markdown",
   "metadata": {},
   "source": [
    "Link zur Quelle: [Datenset von Kaggle](https://www.kaggle.com/uciml/pima-indians-diabetes-database)"
   ]
  },
  {
   "cell_type": "markdown",
   "metadata": {},
   "source": [
    "![purple-divider](https://user-images.githubusercontent.com/7065401/52071927-c1cd7100-2562-11e9-908a-dde91ba14e59.png)"
   ]
  },
  {
   "cell_type": "markdown",
   "metadata": {},
   "source": [
    "# Beispiel Notebook"
   ]
  },
  {
   "cell_type": "markdown",
   "metadata": {},
   "source": [
    "## Import der benötigten Packages"
   ]
  },
  {
   "cell_type": "code",
   "execution_count": null,
   "metadata": {
    "tags": []
   },
   "outputs": [],
   "source": [
    "!pip install pandas_profiling"
   ]
  },
  {
   "cell_type": "code",
   "execution_count": null,
   "metadata": {},
   "outputs": [],
   "source": [
    "import pandas as pd\n",
    "import pandas_profiling as pp\n",
    "import numpy as np\n",
    "import seaborn as sns\n",
    "import matplotlib.pyplot as plt\n",
    "\n",
    "%matplotlib inline\n",
    "\n",
    "from IPython.core.interactiveshell import InteractiveShell\n",
    "InteractiveShell.ast_node_interactivity = \"last_expr\""
   ]
  },
  {
   "cell_type": "markdown",
   "metadata": {},
   "source": [
    "## Hypothesen & Zielvariablen\n",
    "- Welches Verhalten haben Schwangerschaften auf Diabetes\n",
    "- Welchen Einfluss hat das Alter auf Diabetes\n",
    "- ..."
   ]
  },
  {
   "cell_type": "markdown",
   "metadata": {
    "tags": []
   },
   "source": [
    "## Gather Data"
   ]
  },
  {
   "cell_type": "markdown",
   "metadata": {},
   "source": [
    "Panda bietet vorgefertigte Funktionen, die das Laden eines Datensets vereinfachen. Hier verwenden wir die Funktion\n",
    "```python\n",
    "pandas.read_csv\n",
    "```\n",
    "Lasst uns gemeinsam einen Blick auf die Dokumentation werfen: https://pandas.pydata.org/pandas-docs/stable/reference/api/pandas.read_csv.html"
   ]
  },
  {
   "cell_type": "code",
   "execution_count": null,
   "metadata": {},
   "outputs": [],
   "source": [
    "diabetes_df = pd.read_csv('./src/diabetes.csv')"
   ]
  },
  {
   "cell_type": "markdown",
   "metadata": {},
   "source": [
    "Der erste Schritt ist ein Überblick über das Datenset zu erhalten, auch hier gibt es einfache Funktionen, die Ihr heranziehen könnt. Hier verwenden wir die Funktion:\n",
    "```python\n",
    "pandas.DataFrame.head\n",
    "```\n",
    "Hier auch noch einmal der Blick auf die Dokumentation: https://pandas.pydata.org/docs/reference/api/pandas.DataFrame.head.html"
   ]
  },
  {
   "cell_type": "markdown",
   "metadata": {},
   "source": [
    "## Assess Data"
   ]
  },
  {
   "cell_type": "code",
   "execution_count": null,
   "metadata": {},
   "outputs": [],
   "source": [
    "diabetes_df.head()"
   ]
  },
  {
   "cell_type": "markdown",
   "metadata": {},
   "source": [
    "**Wichtig**: Ihr müsst ein gutes fachliches Verständnis der Spalten haben. Wie bereits am Anfang des Kurses erwähnt, könnt Ihr nur Kontext geben, wenn Ihr die Daten nachvollziehen könnt. Hier einmal eine Übersicht der Spalten, die ich aus der Dokumentation gezogen habe."
   ]
  },
  {
   "cell_type": "markdown",
   "metadata": {},
   "source": [
    "- **Pregnancies**: Anzahl der Schwangerschaften\n",
    "- **Glucose**: Glukoselevel der Patienten\n",
    "- **Blood Pressure**: Blutdruck\n",
    "- **SkinThickness**: Dicke der Haut des Patienten in mm\n",
    "- **Insulin**: Insulin-Level der Patienten (Zeitraum 2 Stunden)\n",
    "- **BMI**: Body-Mass-Index (Gewicht in kg / Größe in m)^2\n",
    "- **DiabetesPedigreeFunction**: Vorgeschichte von Diabetes mellitus in der Verwandtschaft\n",
    "- **Age**: Alter des Patienten\n",
    "- **Outcome**: Ob ein Patient Diabetes hat oder nicht"
   ]
  },
  {
   "cell_type": "markdown",
   "metadata": {},
   "source": [
    "**Hinweis**: Die Dokumentation kann auch noch ausführlicher sein\n",
    "\n",
    "Um noch ein wenig besseres Verständnis über das Datenset zu erhalten, lassen wir uns erst einmal **Histogramme** ausgeben. Auch hier bietet Pandas eine Standardfunktionalität.\n",
    "\n",
    "```python\n",
    "pandas.DataFrame.hist\n",
    "```\n",
    "\n",
    "Hier die Dokumentation: https://pandas.pydata.org/pandas-docs/stable/reference/api/pandas.DataFrame.hist.html"
   ]
  },
  {
   "cell_type": "code",
   "execution_count": null,
   "metadata": {},
   "outputs": [],
   "source": [
    "diabetes_df.hist(bins=30, figsize=(15,10))"
   ]
  },
  {
   "cell_type": "markdown",
   "metadata": {},
   "source": [
    "**Was sind Eure Beobachtungen habt Ihr bereits bei der Sichtung der Daten?**"
   ]
  },
  {
   "cell_type": "markdown",
   "metadata": {},
   "source": [
    " Bei der Auswahl dieses Datensets aus einer größeren Datenbank wurden mehrere Einschränkungen gemacht. Insbesondere sind alle Patienten hier  mindestens 21 Jahre alt. Was nicht ersichtlich ist, dass Sie alle weiblich sind und von Pima-Indianern abstammen.\n",
    " \n",
    "Ein weiter Punkt ist, dass wir direkt identfizieren, was **Numerisch** und **Kategorisch** ist. Hier werden wir im weiteren Kursverlauf weiter eingehen.\n",
    "\n",
    "Des Weiteren gibt es viele weitere Funktionen, einen ersten Einblick auf das Datenset zu erhalten. Ich würde Euch gerne noch eine Übersicht vorstellen, die Euch einige allgemeine statistische Informationen über den Datensatz zur Verfügung stellt. Dieser **simplifiziert die Erstanalyse massiv** und erstellt wesentliche Erkentnisse **\"Out-of-the-Box\"**:"
   ]
  },
  {
   "cell_type": "code",
   "execution_count": null,
   "metadata": {},
   "outputs": [],
   "source": [
    "diabetes_df.info()"
   ]
  },
  {
   "cell_type": "code",
   "execution_count": null,
   "metadata": {},
   "outputs": [],
   "source": [
    "#Gibt die wichtigsten Kennzahlen pro Spalte wieder\n",
    "diabetes_df.describe()"
   ]
  },
  {
   "cell_type": "code",
   "execution_count": null,
   "metadata": {},
   "outputs": [],
   "source": [
    "# Gibt ein sehr ausführlichen Report über die Daten wieder\n",
    "pp.ProfileReport(diabetes_df, minimal=True)"
   ]
  },
  {
   "cell_type": "code",
   "execution_count": null,
   "metadata": {},
   "outputs": [],
   "source": [
    "duplicate = diabetes_df[diabetes_df.duplicated()]\n",
    "print(\"Check, ob doppelte Zeilen im DataFrame vorhanden sind:\")\n",
    "duplicate"
   ]
  },
  {
   "cell_type": "markdown",
   "metadata": {},
   "source": [
    "### Results/Findings\n",
    "**Wichtige Erkenntnisse:**\n",
    "- Keine **fehlenden** oder **doppelten Zeilen** im DataFrame\n",
    "- Summe der Nullwerte in Spalte \"Pregnancies\" ist ziemlich gering (nur 14,5 %). **Über 80 % der Patienten** im Datensatz einfach oder mehrfach schwanger waren\n",
    "- ...\n",
    "\n",
    "**Fazit**: Da es keine fehlenden oder doppelten Zeilen im Datenrahmen gibt, wie oben gesehen, müssen wir keine zusätzliche Datenbereinigung durchführen."
   ]
  },
  {
   "cell_type": "markdown",
   "metadata": {},
   "source": [
    "### Anmerkung\n",
    "\n",
    "Wir merken, dass die Daten bereits gut vorbereitet sind. Das ist im \"realen Leben\" nicht immer der Fall. Hier eine kleine Anekdote, die Euch im weiteren Verlauf des Kurses begleiten wird."
   ]
  },
  {
   "cell_type": "markdown",
   "metadata": {},
   "source": [
    "<div>\n",
    "<img src=\"./src/real_data.png\" width=\"500\"/>\n",
    "</div>"
   ]
  },
  {
   "cell_type": "markdown",
   "metadata": {},
   "source": [
    "## Clean Data"
   ]
  },
  {
   "cell_type": "markdown",
   "metadata": {
    "tags": []
   },
   "source": [
    "### Erster Fehler: Zum Beispiel NULL Werte in Schwangerschaft mit Mittelwert ersetzen"
   ]
  },
  {
   "cell_type": "code",
   "execution_count": null,
   "metadata": {},
   "outputs": [],
   "source": [
    "### Code\n",
    "### Code um Null Werte in den Zeilen mit dem Mittelwert zu ersetzen"
   ]
  },
  {
   "cell_type": "code",
   "execution_count": null,
   "metadata": {},
   "outputs": [],
   "source": [
    "### Test ob die Null Werte behoben sind mit \n",
    "diabetes_df.info()"
   ]
  },
  {
   "cell_type": "markdown",
   "metadata": {
    "tags": []
   },
   "source": [
    "### Zweiter Fehler: Zum Beispiel NULL Werte in Insulin Zeile löschen"
   ]
  },
  {
   "cell_type": "code",
   "execution_count": null,
   "metadata": {},
   "outputs": [],
   "source": [
    "### Code\n",
    "### Code um Zeilen aus einem dataframe zu löschen"
   ]
  },
  {
   "cell_type": "code",
   "execution_count": null,
   "metadata": {},
   "outputs": [],
   "source": [
    "### Test ob die Null Werte behoben sind mit \n",
    "diabetes_df.info()"
   ]
  },
  {
   "cell_type": "markdown",
   "metadata": {},
   "source": [
    "## Store the Data"
   ]
  },
  {
   "cell_type": "markdown",
   "metadata": {},
   "source": [
    "Meistens wollen wir mit dem gesäuberten Dataframe weiterabeiten, damit wir sicher sich, dass dieses auch gespeichert wird, persistieren wir dieses, bevor wir mit der Analyse weitermachen"
   ]
  },
  {
   "cell_type": "code",
   "execution_count": null,
   "metadata": {},
   "outputs": [],
   "source": [
    "df_diabetes_clean = diabetes_df.copy()\n",
    "df_diabetes_clean.to_csv('src/diabetes_clean.csv', index=False)"
   ]
  },
  {
   "cell_type": "markdown",
   "metadata": {},
   "source": [
    "## Exploratory Data Analysis\n",
    "Hier werden dann die variablen genauer untersucht. Welche Variablen sind wirklich wichtig, wo findet man Korrelationen etc."
   ]
  },
  {
   "cell_type": "markdown",
   "metadata": {},
   "source": [
    "Gucken wir uns noch einmal die Korrelation der Variablen an - hier werden erste Zusammenhänge bereits sehr ersichtlich. Hierzu verwenden wir wieder eine Methode aus dem Pandas Package.\n",
    "\n",
    "```python\n",
    "pandas.DataFrame.corr\n",
    "```\n",
    "\n",
    "Hier zur Dokumentation: https://pandas.pydata.org/pandas-docs/stable/reference/api/pandas.DataFrame.corr.html\n",
    "\n",
    "Als Varible verwenden wir den Standard Korrelationskoeffizient, auch Pearson correlation coefficient genannt. Diese Methode ist ein mögliches Maß zur Maß zur Darlegung des linearen Zusammenhangs zwischen zwei Merkmalen.\n",
    "\n",
    "Um die zurückgegebene Matrix mit den Korrelationen lesbarer zu machen, färben wir die Werte ein."
   ]
  },
  {
   "cell_type": "code",
   "execution_count": null,
   "metadata": {},
   "outputs": [],
   "source": [
    "diabetes_corr = diabetes_df.corr(method='pearson')\n",
    "diabetes_corr.style.background_gradient(cmap='Blues')"
   ]
  },
  {
   "cell_type": "markdown",
   "metadata": {},
   "source": [
    "Eine *positive Korrelation* ist zwischen folgenden Variablen zu beobachten:\n",
    "- Alter und Schwangere\n",
    "- Glukose und Outcome\n",
    "- Hautdicke und Insulin\n",
    "\n",
    "Was könnte hier die *Interpretation* sein?"
   ]
  },
  {
   "cell_type": "markdown",
   "metadata": {},
   "source": [
    "![purple-divider](https://user-images.githubusercontent.com/7065401/52071927-c1cd7100-2562-11e9-908a-dde91ba14e59.png)"
   ]
  },
  {
   "cell_type": "markdown",
   "metadata": {},
   "source": [
    "## Maschine Learning Teil"
   ]
  },
  {
   "cell_type": "markdown",
   "metadata": {},
   "source": [
    "Für die weitere Analyse würden wir nun die Daten in Test und Train aufteilen, weitere Analysen durchführen und uns für eine Modell entscheiden, welches bestmöglich vorhersagt, ob eine Person Diabetes hat oder nicht.\n",
    "\n",
    "1. Trainingsset vorbereiten\n",
    "1. Performance Metricen überlegen\n",
    "1. Feature Engineering\n",
    "1. Modelling\n",
    "    1. Model1\n",
    "        1. Model1 definieren\n",
    "        1. Model1 training\n",
    "        1. Model1 Performance Assessment\n",
    "    1. Modelx\n",
    "        1. Modelx definieren\n",
    "        1. Modelx training\n",
    "        1. Modelx Performance Assessment\n",
    "1. Hyperparameter tuning\n",
    "\n",
    "Das würden wir uns in einem folgenden Kurse genauer ansehen. Nun werden wir uns erst einmal auf erste Analysen stürzen.\n"
   ]
  },
  {
   "cell_type": "markdown",
   "metadata": {},
   "source": [
    "![purple-divider](https://user-images.githubusercontent.com/7065401/52071927-c1cd7100-2562-11e9-908a-dde91ba14e59.png)"
   ]
  },
  {
   "cell_type": "markdown",
   "metadata": {},
   "source": [
    "## Ergebnisse kommunizieren / visualisieren"
   ]
  },
  {
   "cell_type": "markdown",
   "metadata": {},
   "source": [
    "**Lasst uns gerne noch einmal die Korrelation zwischen Glukose und Insulin darstellen**"
   ]
  },
  {
   "cell_type": "code",
   "execution_count": null,
   "metadata": {},
   "outputs": [],
   "source": [
    "# Streudiagramm mit matplotlib, wobei x = Glucose und y = Insulin und alpha = 0,5 (Transparent)\n",
    "plt.scatter(x=diabetes_df['Glucose'], y=diabetes_df['Insulin'], alpha=0.5)\n",
    "# Benenne die X-Achse Glucose\n",
    "plt.xlabel(\"Glucose\")\n",
    "# Benenne die Y-Achste Insulin\n",
    "plt.ylabel(\"Insulin\")\n",
    "# Plotte das Diagramm\n",
    "plt.show()"
   ]
  },
  {
   "cell_type": "markdown",
   "metadata": {},
   "source": [
    "Es besteht eine positive Korrelation zwischen den Variablen Glukose und Insulin. Das ist einfach zu interpretieren, da eine Person mit höheren Glukosespiegeln erwartet würde, dass sie mehr Insulin einnimmt."
   ]
  },
  {
   "cell_type": "markdown",
   "metadata": {},
   "source": [
    "**Nun wollen wir die Variablen Ergebnis und Alter visualisieren. Dazu erstellen wir einen Boxplot mit folgendem Code:**"
   ]
  },
  {
   "cell_type": "code",
   "execution_count": null,
   "metadata": {},
   "outputs": [],
   "source": [
    "diabetes_df.boxplot(column='Age', by=diabetes_df['Outcome'], figsize= (40, 10), fontsize=20, return_type='axes')"
   ]
  },
  {
   "cell_type": "markdown",
   "metadata": {},
   "source": [
    "Aus der obigen Grafik kann gesehen werden, dass ältere Menschen mit größerer Wahrscheinlichkeit an Diabetes erkrankt sind. Das Medianalter für Erwachsene mit Diabetes liegt bei etwa 35 Jahren, während es bei Menschen ohne Diabetes niedriger ist.\n"
   ]
  },
  {
   "cell_type": "markdown",
   "metadata": {},
   "source": [
    "**Es können viele weitere Interpreationen gewählt weden - wichtig ist ein entsprechenden Fazit.**"
   ]
  },
  {
   "cell_type": "markdown",
   "metadata": {},
   "source": [
    "## Interpretation / Kurze Zusammenfassung"
   ]
  },
  {
   "cell_type": "markdown",
   "metadata": {},
   "source": [
    "Menschen mit Diabetes sind mit hoher Wahrscheinlichkeit älter als Menschen, die keinen Diabetes haben. Sie haben auch eher höhere Glukosespiegel im Blut. Menschen mit höheren Glukosewerten neigen auch dazu, mehr Insulin zu nehmen, und diese positive Korrelation deutet darauf hin, dass Patienten mit Diabetes auch höhere Insulinwerte haben könnten (diese Korrelation kann durch Erstellen eines Streudiagramms überprüft werden).\n",
    "\n",
    "**In der abschließenden Projektarbeit würde ich etwas mehr erwarten als das dargestellte.**"
   ]
  },
  {
   "cell_type": "markdown",
   "metadata": {},
   "source": [
    "![purple-divider](https://user-images.githubusercontent.com/7065401/52071927-c1cd7100-2562-11e9-908a-dde91ba14e59.png)"
   ]
  },
  {
   "cell_type": "markdown",
   "metadata": {},
   "source": [
    "## Gibt es noch Fragen?"
   ]
  },
  {
   "cell_type": "code",
   "execution_count": null,
   "metadata": {},
   "outputs": [],
   "source": []
  }
 ],
 "metadata": {
  "kernelspec": {
   "display_name": "Python 3 (ipykernel)",
   "language": "python",
   "name": "python3"
  },
  "language_info": {
   "codemirror_mode": {
    "name": "ipython",
    "version": 3
   },
   "file_extension": ".py",
   "mimetype": "text/x-python",
   "name": "python",
   "nbconvert_exporter": "python",
   "pygments_lexer": "ipython3",
   "version": "3.9.7"
  }
 },
 "nbformat": 4,
 "nbformat_minor": 4
}
